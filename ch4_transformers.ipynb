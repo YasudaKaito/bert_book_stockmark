{
 "cells": [
  {
   "cell_type": "code",
   "execution_count": 1,
   "id": "c76b91ef-ac6c-4bf2-ad03-410ccbb1886e",
   "metadata": {},
   "outputs": [],
   "source": [
    "import torch\n",
    "from transformers import BertJapaneseTokenizer, BertModel"
   ]
  },
  {
   "cell_type": "markdown",
   "id": "d8348b7c-7038-4e0f-81af-6accbdb4fb04",
   "metadata": {},
   "source": [
    "# 4-4 Transformers\n",
    "\n",
    "- トークナイザでトークン化して、符号化（id化）して、BERTに入力できる形にする\n",
    "- BERTに入力し、出力を得る"
   ]
  },
  {
   "cell_type": "code",
   "execution_count": 2,
   "id": "8b8d147a-7dcf-4ea8-bdaf-9322a06dfd76",
   "metadata": {},
   "outputs": [],
   "source": [
    "model_name = \"tohoku-nlp/bert-base-japanese-whole-word-masking\"\n",
    "tokenizer = BertJapaneseTokenizer.from_pretrained(model_name)"
   ]
  },
  {
   "cell_type": "code",
   "execution_count": 3,
   "id": "776cc25e-28e4-47f4-9992-20c514e508eb",
   "metadata": {},
   "outputs": [
    {
     "data": {
      "text/plain": [
       "['明日', 'は', '自然', '言語', '処理', 'の', '勉強', 'を', 'しよ', 'う', '。']"
      ]
     },
     "execution_count": 3,
     "metadata": {},
     "output_type": "execute_result"
    }
   ],
   "source": [
    "tokenizer.tokenize(\"明日は自然言語処理の勉強をしよう。\")"
   ]
  },
  {
   "cell_type": "code",
   "execution_count": 4,
   "id": "8202d09a-258c-4c26-a521-c36eaa8e44d0",
   "metadata": {},
   "outputs": [
    {
     "data": {
      "text/plain": [
       "['明日', 'は', 'マシン', '##ラー', '##ニング', 'の', '勉強', 'を', 'しよ', 'う', '。']"
      ]
     },
     "execution_count": 4,
     "metadata": {},
     "output_type": "execute_result"
    }
   ],
   "source": [
    "# 「##」はWordPieceによる分割の単語の最初以外のトークン\n",
    "tokenizer.tokenize(\"明日はマシンラーニングの勉強をしよう。\")"
   ]
  },
  {
   "cell_type": "code",
   "execution_count": 5,
   "id": "4d53d53f-117c-4559-a1da-f959a82408ed",
   "metadata": {},
   "outputs": [
    {
     "data": {
      "text/plain": [
       "['機械', '学習', 'を', '中国', '語', 'に', 'する', 'と', '机', '器', '学', '[UNK]', 'だ', '。']"
      ]
     },
     "execution_count": 5,
     "metadata": {},
     "output_type": "execute_result"
    }
   ],
   "source": [
    "tokenizer.tokenize(\"機械学習を中国語にすると机器学习だ。\")"
   ]
  },
  {
   "cell_type": "code",
   "execution_count": 7,
   "id": "679d7cd2-c967-468a-862c-bd2e70b3e372",
   "metadata": {},
   "outputs": [
    {
     "name": "stdout",
     "output_type": "stream",
     "text": [
      "[2, 11475, 9, 1757, 1882, 2762, 5, 8192, 11, 2132, 205, 8, 3]\n"
     ]
    }
   ],
   "source": [
    "input_ids = tokenizer.encode(\"明日は自然言語処理の勉強をしよう。\")\n",
    "print(input_ids)"
   ]
  },
  {
   "cell_type": "code",
   "execution_count": 8,
   "id": "b6f5052f-dead-41b6-a1bd-2a22fbe9efc7",
   "metadata": {},
   "outputs": [
    {
     "data": {
      "text/plain": [
       "['[CLS]', '明日', 'は', '自然', '言語', '処理', 'の', '勉強', 'を', 'しよ', 'う', '。', '[SEP]']"
      ]
     },
     "execution_count": 8,
     "metadata": {},
     "output_type": "execute_result"
    }
   ],
   "source": [
    "tokenizer.convert_ids_to_tokens(input_ids)"
   ]
  },
  {
   "cell_type": "markdown",
   "id": "5a4347a8-be57-450c-846d-d963218f982f",
   "metadata": {},
   "source": [
    "- 複数の文章をまとめて処理する際に、系列長を揃えるため`[PAD]`を足す\n",
    "- `[PAD]`は本来の処理と関係ない余計なものなので、どの部分にAttentionをかけるかをあらわす attention_mask も用意する"
   ]
  },
  {
   "cell_type": "code",
   "execution_count": 9,
   "id": "be7cf19d-7b19-480f-b63a-44ee9e4f56a8",
   "metadata": {},
   "outputs": [
    {
     "name": "stdout",
     "output_type": "stream",
     "text": [
      "# encoding: \n",
      "{'input_ids': [2, 11475, 5, 11385, 9, 16577, 75, 8, 3, 0, 0, 0], 'token_type_ids': [0, 0, 0, 0, 0, 0, 0, 0, 0, 0, 0, 0], 'attention_mask': [1, 1, 1, 1, 1, 1, 1, 1, 1, 0, 0, 0]}\n"
     ]
    }
   ],
   "source": [
    "text = \"明日の天気は晴れだ。\"\n",
    "encoding = tokenizer(text, max_length=12, padding=\"max_length\", truncation=True)\n",
    "print(\"# encoding: \")\n",
    "print(encoding)"
   ]
  },
  {
   "cell_type": "code",
   "execution_count": 10,
   "id": "f254ce38-7552-4ae6-83de-6fdfa578ef36",
   "metadata": {},
   "outputs": [
    {
     "name": "stdout",
     "output_type": "stream",
     "text": [
      "['[CLS]', '明日', 'の', '天気', 'は', '晴れ', 'だ', '。', '[SEP]', '[PAD]', '[PAD]', '[PAD]']\n"
     ]
    }
   ],
   "source": [
    "tokens = tokenizer.convert_ids_to_tokens(encoding[\"input_ids\"])\n",
    "print(tokens)"
   ]
  },
  {
   "cell_type": "code",
   "execution_count": 12,
   "id": "ab65be5e-5c31-498c-800e-d38fa527f91f",
   "metadata": {
    "scrolled": true
   },
   "outputs": [
    {
     "name": "stdout",
     "output_type": "stream",
     "text": [
      "{'attention_mask': [[1, 1, 1, 1, 1, 1, 1, 1, 1, 0],\n",
      "                    [1, 1, 1, 1, 1, 1, 1, 1, 1, 1]],\n",
      " 'input_ids': [[2, 11475, 5, 11385, 9, 16577, 75, 8, 3, 0],\n",
      "               [2, 6311, 14, 1132, 7, 16084, 332, 58, 10, 3]],\n",
      " 'token_type_ids': [[0, 0, 0, 0, 0, 0, 0, 0, 0, 0],\n",
      "                    [0, 0, 0, 0, 0, 0, 0, 0, 0, 0]]}\n"
     ]
    }
   ],
   "source": [
    "from pprint import pprint\n",
    "\n",
    "text_list = [\"明日の天気は晴れだ。\", \"パソコンが急に動かなくなった。\"]\n",
    "tmp_encoded = tokenizer(\n",
    "    text_list,\n",
    "    max_length=10,\n",
    "    padding=\"max_length\",\n",
    "    truncation=True,\n",
    ")\n",
    "\n",
    "pprint(tmp_encoded)"
   ]
  },
  {
   "cell_type": "code",
   "execution_count": 13,
   "id": "9e23661b-7ad9-4b2c-a7ab-c790b630e0fa",
   "metadata": {},
   "outputs": [
    {
     "name": "stdout",
     "output_type": "stream",
     "text": [
      "{'attention_mask': [[1, 1, 1, 1, 1, 1, 1, 1, 1, 0, 0],\n",
      "                    [1, 1, 1, 1, 1, 1, 1, 1, 1, 1, 1]],\n",
      " 'input_ids': [[2, 11475, 5, 11385, 9, 16577, 75, 8, 3, 0, 0],\n",
      "               [2, 6311, 14, 1132, 7, 16084, 332, 58, 10, 8, 3]],\n",
      " 'token_type_ids': [[0, 0, 0, 0, 0, 0, 0, 0, 0, 0, 0],\n",
      "                    [0, 0, 0, 0, 0, 0, 0, 0, 0, 0, 0]]}\n"
     ]
    }
   ],
   "source": [
    "tmp_encoded = tokenizer(\n",
    "    text_list,\n",
    "    padding=\"longest\",\n",
    ")\n",
    "\n",
    "pprint(tmp_encoded)"
   ]
  },
  {
   "cell_type": "code",
   "execution_count": 15,
   "id": "3564d09c-e00a-4ebe-996b-1cc1e2249548",
   "metadata": {},
   "outputs": [
    {
     "name": "stdout",
     "output_type": "stream",
     "text": [
      "{'attention_mask': tensor([[1, 1, 1, 1, 1, 1, 1, 1, 1, 0],\n",
      "        [1, 1, 1, 1, 1, 1, 1, 1, 1, 1]]),\n",
      " 'input_ids': tensor([[    2, 11475,     5, 11385,     9, 16577,    75,     8,     3,     0],\n",
      "        [    2,  6311,    14,  1132,     7, 16084,   332,    58,    10,     3]]),\n",
      " 'token_type_ids': tensor([[0, 0, 0, 0, 0, 0, 0, 0, 0, 0],\n",
      "        [0, 0, 0, 0, 0, 0, 0, 0, 0, 0]])}\n"
     ]
    }
   ],
   "source": [
    "pprint(\n",
    "    tokenizer(\n",
    "        text_list,\n",
    "        max_length=10,\n",
    "        padding=\"max_length\",\n",
    "        truncation=True,\n",
    "        return_tensors=\"pt\",\n",
    "    )\n",
    ")"
   ]
  },
  {
   "cell_type": "markdown",
   "id": "605bd5b5-32dd-4f2d-bc02-61505fd0a386",
   "metadata": {},
   "source": [
    "- BertModel\n",
    "  - トークンに対するベクトルを得るクラス\n",
    "  - 直接使うことはほぼない\n",
    "  - 入出力関係は個別の言語タスク用モデルと似ているので、解説のため "
   ]
  },
  {
   "cell_type": "code",
   "execution_count": 16,
   "id": "50b37551-8400-4959-9b12-2f57f70298fd",
   "metadata": {},
   "outputs": [
    {
     "data": {
      "application/vnd.jupyter.widget-view+json": {
       "model_id": "88cff716e0e1481caf85f2607610c477",
       "version_major": 2,
       "version_minor": 0
      },
      "text/plain": [
       "pytorch_model.bin:   0%|          | 0.00/445M [00:00<?, ?B/s]"
      ]
     },
     "metadata": {},
     "output_type": "display_data"
    }
   ],
   "source": [
    "model_name = \"tohoku-nlp/bert-base-japanese-whole-word-masking\"\n",
    "bert = BertModel.from_pretrained(model_name)\n",
    "bert = bert.cuda()"
   ]
  },
  {
   "cell_type": "code",
   "execution_count": 17,
   "id": "5d915440-ff18-4805-9fc8-e69de2ad161b",
   "metadata": {},
   "outputs": [
    {
     "name": "stdout",
     "output_type": "stream",
     "text": [
      "BertConfig {\n",
      "  \"_name_or_path\": \"tohoku-nlp/bert-base-japanese-whole-word-masking\",\n",
      "  \"architectures\": [\n",
      "    \"BertForMaskedLM\"\n",
      "  ],\n",
      "  \"attention_probs_dropout_prob\": 0.1,\n",
      "  \"classifier_dropout\": null,\n",
      "  \"hidden_act\": \"gelu\",\n",
      "  \"hidden_dropout_prob\": 0.1,\n",
      "  \"hidden_size\": 768,\n",
      "  \"initializer_range\": 0.02,\n",
      "  \"intermediate_size\": 3072,\n",
      "  \"layer_norm_eps\": 1e-12,\n",
      "  \"max_position_embeddings\": 512,\n",
      "  \"model_type\": \"bert\",\n",
      "  \"num_attention_heads\": 12,\n",
      "  \"num_hidden_layers\": 12,\n",
      "  \"pad_token_id\": 0,\n",
      "  \"position_embedding_type\": \"absolute\",\n",
      "  \"tokenizer_class\": \"BertJapaneseTokenizer\",\n",
      "  \"transformers_version\": \"4.40.0\",\n",
      "  \"type_vocab_size\": 2,\n",
      "  \"use_cache\": true,\n",
      "  \"vocab_size\": 32000\n",
      "}\n",
      "\n"
     ]
    }
   ],
   "source": [
    "pprint(bert.config)"
   ]
  },
  {
   "cell_type": "code",
   "execution_count": 20,
   "id": "a87561bd-e1c1-48d5-a1e0-86dead87c619",
   "metadata": {},
   "outputs": [],
   "source": [
    "### BertModel に符号化(id化)した文章を入力することで、BERTの最終層の出力を得る ###\n",
    "text_list = [\n",
    "    \"明日は自然言語処理の勉強をしよう。\",\n",
    "    \"明日はマシーンラーニングの勉強をしよう。\"\n",
    "]\n",
    "\n",
    "# 符号化\n",
    "encoding = tokenizer(\n",
    "    text_list,\n",
    "    max_length=32,\n",
    "    padding=\"max_length\",\n",
    "    truncation=True,\n",
    "    return_tensors=\"pt\",\n",
    ")\n",
    "\n",
    "# データをGPUに乗せる\n",
    "encoding = {k: v.cuda() for k, v in encoding.items()}\n",
    "# BERTでの処理\n",
    "output = bert(**encoding)\n",
    "# 最終層の出力\n",
    "last_hidden_state = output.last_hidden_state"
   ]
  },
  {
   "cell_type": "code",
   "execution_count": 21,
   "id": "116c1431-f628-482c-a7d4-c41a60f6aaca",
   "metadata": {},
   "outputs": [
    {
     "name": "stdout",
     "output_type": "stream",
     "text": [
      "torch.Size([2, 32, 768])\n"
     ]
    }
   ],
   "source": [
    "print(last_hidden_state.size())"
   ]
  },
  {
   "cell_type": "markdown",
   "id": "104e591d-1863-4a76-b65c-b9579e68376d",
   "metadata": {},
   "source": [
    "- バッチサイズ（文章の数）が2,\n",
    "- 系列長が32,\n",
    "- 隠れ状態（分散表現）が768"
   ]
  }
 ],
 "metadata": {
  "kernelspec": {
   "display_name": "Python 3 (ipykernel)",
   "language": "python",
   "name": "python3"
  },
  "language_info": {
   "codemirror_mode": {
    "name": "ipython",
    "version": 3
   },
   "file_extension": ".py",
   "mimetype": "text/x-python",
   "name": "python",
   "nbconvert_exporter": "python",
   "pygments_lexer": "ipython3",
   "version": "3.11.9"
  }
 },
 "nbformat": 4,
 "nbformat_minor": 5
}
