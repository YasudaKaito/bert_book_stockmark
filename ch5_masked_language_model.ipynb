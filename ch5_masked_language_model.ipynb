{
 "cells": [
  {
   "cell_type": "code",
   "execution_count": 1,
   "id": "59a9c159-2f38-4316-9c19-db54c159e3c9",
   "metadata": {},
   "outputs": [],
   "source": [
    "import numpy as np\n",
    "import torch\n",
    "# BertModel -> Linear -> GELU -> Linear\n",
    "from transformers import BertJapaneseTokenizer, BertForMaskedLM"
   ]
  },
  {
   "cell_type": "code",
   "execution_count": 2,
   "id": "5e31eb47-0ad4-4191-a8d2-708ed51ddfd7",
   "metadata": {},
   "outputs": [
    {
     "name": "stderr",
     "output_type": "stream",
     "text": [
      "Some weights of the model checkpoint at tohoku-nlp/bert-base-japanese-whole-word-masking were not used when initializing BertForMaskedLM: ['bert.pooler.dense.bias', 'bert.pooler.dense.weight', 'cls.seq_relationship.bias', 'cls.seq_relationship.weight']\n",
      "- This IS expected if you are initializing BertForMaskedLM from the checkpoint of a model trained on another task or with another architecture (e.g. initializing a BertForSequenceClassification model from a BertForPreTraining model).\n",
      "- This IS NOT expected if you are initializing BertForMaskedLM from the checkpoint of a model that you expect to be exactly identical (initializing a BertForSequenceClassification model from a BertForSequenceClassification model).\n"
     ]
    }
   ],
   "source": [
    "model_name = \"tohoku-nlp/bert-base-japanese-whole-word-masking\"\n",
    "tokenizer = BertJapaneseTokenizer.from_pretrained(model_name)\n",
    "bert_mlm = BertForMaskedLM.from_pretrained(model_name)\n",
    "bert_mlm = bert_mlm.cuda()"
   ]
  },
  {
   "cell_type": "code",
   "execution_count": 5,
   "id": "b2d683b9-4c02-4313-9685-de57964c8970",
   "metadata": {},
   "outputs": [
    {
     "name": "stdout",
     "output_type": "stream",
     "text": [
      "['今日', 'は', '[MASK]', 'へ', '行く', '。']\n"
     ]
    }
   ],
   "source": [
    "text = \"今日は [MASK] へ行く。\"\n",
    "tokens = tokenizer.tokenize(text)\n",
    "print(tokens)"
   ]
  },
  {
   "cell_type": "code",
   "execution_count": 6,
   "id": "57e4df19-a2dc-4db2-b344-89004daf9c02",
   "metadata": {},
   "outputs": [],
   "source": [
    "input_ids = tokenizer.encode(text, return_tensors=\"pt\")\n",
    "input_ids = input_ids.cuda()"
   ]
  },
  {
   "cell_type": "code",
   "execution_count": 7,
   "id": "d21c0a95-d48e-446d-8805-03e178d507be",
   "metadata": {},
   "outputs": [],
   "source": [
    "with torch.no_grad():\n",
    "    output = bert_mlm(input_ids)\n",
    "    # サイズは(バッチサイズ、系列長、語彙サイズ)\n",
    "    scores = output.logits"
   ]
  },
  {
   "cell_type": "code",
   "execution_count": 10,
   "id": "3e3461d3-36e3-49b9-bf6c-d938ebb9469a",
   "metadata": {},
   "outputs": [
    {
     "data": {
      "text/plain": [
       "[('[PAD]', 0),\n",
       " ('[UNK]', 1),\n",
       " ('[CLS]', 2),\n",
       " ('[SEP]', 3),\n",
       " ('[MASK]', 4),\n",
       " ('の', 5),\n",
       " ('、', 6),\n",
       " ('に', 7),\n",
       " ('。', 8),\n",
       " ('は', 9)]"
      ]
     },
     "execution_count": 10,
     "metadata": {},
     "output_type": "execute_result"
    }
   ],
   "source": [
    "# MASK のidは4\n",
    "list(tokenizer.vocab.items())[:10]"
   ]
  },
  {
   "cell_type": "code",
   "execution_count": 14,
   "id": "83c04db1-9f66-41d4-86f1-cc024ddd6306",
   "metadata": {},
   "outputs": [
    {
     "name": "stdout",
     "output_type": "stream",
     "text": [
      "今日は 東京 へ行く。\n"
     ]
    }
   ],
   "source": [
    "# MASKの位置\n",
    "mask_position = input_ids[0].tolist().index(4)\n",
    "# スコアが最も良いトークンのIDを取得\n",
    "# argmax()で取得した最大値のインデックスが、IDである（語彙方向のインデクスがそのままIDである）\n",
    "id_best = scores[0, mask_position].argmax(-1).item()\n",
    "token_best = tokenizer.convert_ids_to_tokens(id_best)\n",
    "token_best = token_best.replace(\"##\", \"\")\n",
    "\n",
    "text = text.replace(\"[MASK]\", token_best)\n",
    "print(text)"
   ]
  },
  {
   "cell_type": "code",
   "execution_count": 16,
   "id": "73ea04aa-1259-4193-b73b-b30492d29489",
   "metadata": {},
   "outputs": [
    {
     "data": {
      "text/plain": [
       "torch.return_types.topk(\n",
       "values=tensor([10.,  9.,  8.]),\n",
       "indices=tensor([0, 2, 4]))"
      ]
     },
     "execution_count": 16,
     "metadata": {},
     "output_type": "execute_result"
    }
   ],
   "source": [
    "torch.Tensor(np.array([10, 1, 9, 2, 8, 3])).topk(3)"
   ]
  },
  {
   "cell_type": "code",
   "execution_count": 18,
   "id": "ec34eadf-f8d5-4a71-baab-8c930de2aaae",
   "metadata": {},
   "outputs": [
    {
     "name": "stdout",
     "output_type": "stream",
     "text": [
      "今日は東京へ行く。\n",
      "今日はハワイへ行く。\n",
      "今日は学校へ行く。\n",
      "今日はニューヨークへ行く。\n",
      "今日はどこへ行く。\n",
      "今日は空港へ行く。\n",
      "今日はアメリカへ行く。\n",
      "今日は病院へ行く。\n",
      "今日はそこへ行く。\n",
      "今日はロンドンへ行く。\n"
     ]
    }
   ],
   "source": [
    "import numpy.typing as npt\n",
    "\n",
    "def predict_mask_topk(\n",
    "    text: str,\n",
    "    tokenizer: BertJapaneseTokenizer,\n",
    "    bert_mlm: BertForMaskedLM,\n",
    "    num_topk: int = 10,\n",
    ") -> tuple[list[str], npt.NDArray]:\n",
    "    \"\"\"文章中最初の[MASK]をスコア上位のトークンに置き換える\n",
    "\n",
    "    出力は穴埋めされた文章のリストと、置き換えられたトークンのスコアのリスト\n",
    "    \"\"\"\n",
    "    # 文章を符号化し、BERTで分類スコアを得る\n",
    "    input_ids: torch.Tensor = tokenizer.encode(text, return_tensors=\"pt\")\n",
    "    input_ids = input_ids.cuda()\n",
    "    with torch.no_grad():\n",
    "        output = bert_mlm(input_ids)\n",
    "    # サイズは(バッチサイズ、系列長、語彙サイズ)\n",
    "    scores = output.logits\n",
    "\n",
    "    # スコアが上位のトークンとスコアを求める\n",
    "    mask_position = input_ids[0].tolist().index(4)\n",
    "    topk: torch.return_types.topk = scores[0, mask_position].topk(num_topk)\n",
    "    ids_topk = topk.indices\n",
    "    tokens_topk = tokenizer.convert_ids_to_tokens(ids_topk)\n",
    "    scores_topk = topk.values.cpu().numpy()\n",
    "\n",
    "    # [MASK]を上で求めたトークンで置換\n",
    "    text_topk: list[str] = []\n",
    "    for token in tokens_topk:\n",
    "        token = token.replace(\"##\", \"\")\n",
    "        # 1: 最初のMASKだけ置換\n",
    "        text_topk.append(text.replace(\"[MASK]\", token, 1))\n",
    "\n",
    "    return text_topk, scores_topk\n",
    "\n",
    "\n",
    "text = \"今日は[MASK]へ行く。\"\n",
    "text_topk, _ = predict_mask_topk(text, tokenizer, bert_mlm)\n",
    "print(*text_topk, sep=\"\\n\")"
   ]
  },
  {
   "cell_type": "code",
   "execution_count": 19,
   "id": "b2a04831-f2fc-4fb4-a6dd-48de598e06a5",
   "metadata": {},
   "outputs": [
    {
     "data": {
      "text/plain": [
       "'今日は、東京へ行く。'"
      ]
     },
     "execution_count": 19,
     "metadata": {},
     "output_type": "execute_result"
    }
   ],
   "source": [
    "def greedy_prediction(\n",
    "    text: str,\n",
    "    tokenizer: BertJapaneseTokenizer,\n",
    "    bert_mlm: BertForMaskedLM,\n",
    ") -> str:\n",
    "    \"\"\"貪欲法で穴埋めを行う\"\"\"\n",
    "    for _ in range(text.count(\"[MASK]\")):\n",
    "        text = predict_mask_topk(text, tokenizer, bert_mlm, num_topk=1)[0][0]\n",
    "    return text\n",
    "\n",
    "\n",
    "text = \"今日は[MASK][MASK]へ行く。\"\n",
    "greedy_prediction(text, tokenizer, bert_mlm)"
   ]
  }
 ],
 "metadata": {
  "kernelspec": {
   "display_name": "Python 3 (ipykernel)",
   "language": "python",
   "name": "python3"
  },
  "language_info": {
   "codemirror_mode": {
    "name": "ipython",
    "version": 3
   },
   "file_extension": ".py",
   "mimetype": "text/x-python",
   "name": "python",
   "nbconvert_exporter": "python",
   "pygments_lexer": "ipython3",
   "version": "3.11.9"
  }
 },
 "nbformat": 4,
 "nbformat_minor": 5
}
